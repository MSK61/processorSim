{
 "cells": [
  {
   "cell_type": "code",
   "execution_count": null,
   "metadata": {},
   "outputs": [],
   "source": [
    "import itertools\n",
    "import pprint\n",
    "import sys"
   ]
  },
  {
   "cell_type": "code",
   "execution_count": null,
   "metadata": {},
   "outputs": [],
   "source": [
    "sys.path.append(\"../src\")\n",
    "import hw_loading\n",
    "import processor_utils\n",
    "from processor_utils.units import FuncUnit, LockInfo, UnitModel\n",
    "import program_utils\n",
    "import sim_services\n",
    "from str_utils import ICaseString"
   ]
  },
  {
   "cell_type": "code",
   "execution_count": null,
   "metadata": {},
   "outputs": [],
   "source": [
    "capabilities = [ICaseString(cap) for cap in [\"ALU\", \"MEM\"]]\n",
    "fetch_unit = UnitModel(ICaseString('F'), 1, capabilities, LockInfo(False, False), True)\n",
    "decode_unit = UnitModel(ICaseString('D'), 1, capabilities, LockInfo(True, False), False)\n",
    "execute_unit = UnitModel(ICaseString('X'), 1, capabilities, LockInfo(False, False), False)\n",
    "memory_unit = UnitModel(ICaseString('M'), 1, capabilities, LockInfo(False, False), True)\n",
    "writeback_unit = UnitModel(ICaseString('W'), 1, capabilities, LockInfo(False, True), False)"
   ]
  },
  {
   "cell_type": "code",
   "execution_count": null,
   "metadata": {},
   "outputs": [],
   "source": [
    "proc_desc = processor_utils.ProcessorDesc([fetch_unit], [FuncUnit(writeback_unit, [memory_unit])], [], itertools.starmap(FuncUnit, [[memory_unit, [execute_unit]], [execute_unit, [decode_unit]], [decode_unit, [fetch_unit]]]))\n",
    "hw_desc = hw_loading.HwDesc(proc_desc, processor_utils.load_isa([(\"LW\", \"MEM\"), (\"ADD\", \"ALU\")], processor_utils.get_abilities(proc_desc)))"
   ]
  },
  {
   "cell_type": "code",
   "execution_count": null,
   "metadata": {},
   "outputs": [],
   "source": [
    "prog = program_utils.compile_program(program_utils.read_program([\"LW R1, (R2)\", \"ADD R3, R4, R5\", \"ADD R6, R7, R8\", \"ADD R9, R10, R11\"]), hw_desc.isa)"
   ]
  },
  {
   "cell_type": "code",
   "execution_count": null,
   "metadata": {},
   "outputs": [],
   "source": [
    "pprint.pp(sim_services.simulate(prog, sim_services.HwSpec(hw_desc.processor)))"
   ]
  }
 ],
 "metadata": {
  "language_info": {
   "codemirror_mode": {
    "name": "ipython",
    "version": 3
   },
   "file_extension": ".py",
   "mimetype": "text/x-python",
   "name": "python",
   "nbconvert_exporter": "python",
   "pygments_lexer": "ipython3",
   "version": "3.8.3-final"
  },
  "orig_nbformat": 2,
  "kernelspec": {
   "name": "python38364bitvenvvirtualenv1cfe76988894467499950c51c82a21b4",
   "display_name": "Python 3.8.3 64-bit ('.venv': virtualenv)"
  }
 },
 "nbformat": 4,
 "nbformat_minor": 2
}